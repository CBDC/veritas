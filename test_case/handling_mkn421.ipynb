{
 "cells": [
  {
   "cell_type": "markdown",
   "metadata": {},
   "source": [
    "# Handling VERITAS spectra\n",
    "\n",
    "After defining a data file format for VERITAS spectra -- https://github.com/chbrandt/veritas/blob/master/data_formatting-v2.rst -- we'll go here handle those files to see whether they fit our needs.\n",
    "\n",
    "The files we are going to handle here are all from the same object: Mkn 421.\n",
    "When an object is observed multiple times, under different activity levels, the VERITAS collaboration has chosen to split the corresponding *spectra* according to the object's activity.\n",
    "\n",
    "Since an object can have multiple *spectra* associated with it, there must be a way to filter for the data points\n",
    "of interest -- understanding the user will fine-tune the data according to its science case.\n",
    "Straightforward solution for breaking down this degeneracy (same object for multiple tables) is to use the observations `epoch`; since no two events can occur at the same time and location, the moment of observation must be unique for each data file (i.e, *spectra*).\n",
    "(To be precise, since the VHE astrophysics is a place where photon are somewhat rare, in a quiescent period it is necessary a long time to integrate the amount of light necessary to build up an *spectra*, if a *flare* happens during this period, the *low emission* *spectra* will contain the period of the flare; whereas the *high emission spectra* of the same object will correspond to the *flare* period only.)\n",
    "\n",
    "When handlig the *spectra* datasets, the goal is to have a table with `energy`, `flux` and `epoch` so that plotting and modelling can be done.\n",
    "Here, that is the place we have to arrive: (*i*) one plot `energy` *vs* `flux` and (*ii*) one plot `epoch` *vs* `flux`."
   ]
  },
  {
   "cell_type": "markdown",
   "metadata": {},
   "source": [
    "## Testing case: Mkn421\n",
    "\n",
    "Seven data files with *spectra* from Mkn421 are available to build those SED plots.\n",
    "The files are in ECSV format as proposed in https://github.com/chbrandt/veritas/blob/master/data_formatting-v2.rst."
   ]
  },
  {
   "cell_type": "code",
   "execution_count": 4,
   "metadata": {
    "collapsed": false
   },
   "outputs": [
    {
     "name": "stdout",
     "output_type": "stream",
     "text": [
      "handling_mkn421.ipynb          Mkn421_VERITAS_2008_low.csv\r\n",
      "Mkn421_VERITAS_2008_highA.csv  Mkn421_VERITAS_2008_mid.csv\r\n",
      "Mkn421_VERITAS_2008_highB.csv  Mkn421_VERITAS_2008_veryhigh.csv\r\n",
      "Mkn421_VERITAS_2008_highC.csv  Mkn421_VERITAS_2008_verylow.csv\r\n"
     ]
    }
   ],
   "source": [
    "%ls"
   ]
  },
  {
   "cell_type": "code",
   "execution_count": 5,
   "metadata": {
    "collapsed": false
   },
   "outputs": [
    {
     "name": "stdout",
     "output_type": "stream",
     "text": [
      "# %ECSV 0.9\r\n",
      "# ---\r\n",
      "# meta: !!omap\r\n",
      "# - object: Mrk 421\r\n",
      "#\r\n",
      "# - description:\r\n",
      "#    Spectral points for multiwavelength campaign;\r\n",
      "#    Observations taken between 2008 January 01 and 2008 June 05;\r\n",
      "#    Flux sensitivity 0.8e-10 < flux(E>1TeV) < 1.1e-10\r\n",
      "#\r\n",
      "# - mjd:\r\n",
      "#    start: 54502.46971\r\n",
      "#    end: 54622.18955\r\n",
      "#\r\n",
      "# - article:\r\n",
      "#    label: Ap.J. 738, 25 (2011)\r\n",
      "#    url: http://iopscience.iop.org/0004-637X/738/1/25/\r\n",
      "#    arxiv: http://arxiv.org/abs/1106.1210\r\n",
      "#    ads: http://adsabs.harvard.edu/abs/2011ApJ...738...25A\r\n",
      "#\r\n",
      "# - comments:\r\n",
      "#    - Name=Mrk421_2008_highA\r\n",
      "#    - z=0.031\r\n",
      "#    - LiveTime(h)=1.4\r\n",
      "#    - significance=73.0\r\n",
      "#\r\n",
      "# - SED_TYPE: diff_flux_points\r\n",
      "#\r\n",
      "# datatype:\r\n",
      "# - name: e_ref\r\n",
      "#   unit: TeV\r\n",
      "#   datatype: float64\r\n",
      "# - name: dnde\r\n",
      "#   unit: ph / (m2 TeV s)\r\n",
      "#   datatype: float64\r\n",
      "# - name: dnde_errn\r\n",
      "#   unit: ph / (m2 TeV s)\r\n",
      "#   datatype: float64\r\n",
      "# - name: dnde_errp\r\n",
      "#   unit: ph / (m2 TeV s)\r\n",
      "#   datatype: float64\r\n",
      "#\r\n",
      "e_ref dnde       dnde_errn  dnde_errp\r\n",
      "0.275 1.702E-005 3.295E-006 3.295E-006\r\n",
      "0.340 1.289E-005 1.106E-006 1.106E-006\r\n",
      "0.420 8.821E-006 6.072E-007 6.072E-007\r\n",
      "0.519 5.777E-006 3.697E-007 3.697E-007\r\n",
      "0.642 3.509E-006 2.351E-007 2.351E-007\r\n",
      "0.793 2.151E-006 1.525E-007 1.525E-007\r\n",
      "0.980 1.302E-006 1.024E-007 1.024E-007\r\n",
      "1.212 6.273E-007 6.117E-008 6.117E-008\r\n",
      "1.498 3.310E-007 3.853E-008 3.853E-008\r\n",
      "1.851 1.661E-007 2.401E-008 2.401E-008\r\n",
      "2.288 1.124E-007 1.732E-008 1.732E-008\r\n",
      "2.828 6.158E-008 1.138E-008 1.138E-008\r\n",
      "3.496 3.347E-008 7.427E-009 7.427E-009\r\n",
      "4.321 1.160E-008 4.031E-009 4.031E-009\r\n",
      "5.342 5.230E-009 2.371E-009 2.371E-009\r\n"
     ]
    }
   ],
   "source": [
    "%cat 'Mkn421_VERITAS_2008_highA.csv'"
   ]
  },
  {
   "cell_type": "markdown",
   "metadata": {},
   "source": [
    "The format -- ECSV -- has been chosen for it is human readable and metadata rich.\n",
    "The library we have to use is Astropy."
   ]
  },
  {
   "cell_type": "code",
   "execution_count": 6,
   "metadata": {
    "collapsed": true
   },
   "outputs": [],
   "source": [
    "from astropy.table import Table\n",
    "tt = Table.read('Mkn421_VERITAS_2008_highA.csv', format='ascii.ecsv')"
   ]
  },
  {
   "cell_type": "code",
   "execution_count": 10,
   "metadata": {
    "collapsed": false
   },
   "outputs": [
    {
     "data": {
      "text/html": [
       "&lt;Table length=15&gt;\n",
       "<table id=\"table139997206577872\" class=\"table-striped table-bordered table-condensed\">\n",
       "<thead><tr><th>e_ref</th><th>dnde</th><th>dnde_errn</th><th>dnde_errp</th></tr></thead>\n",
       "<thead><tr><th>TeV</th><th>ph / (m2 s TeV)</th><th>ph / (m2 s TeV)</th><th>ph / (m2 s TeV)</th></tr></thead>\n",
       "<thead><tr><th>float64</th><th>float64</th><th>float64</th><th>float64</th></tr></thead>\n",
       "<tr><td>0.275</td><td>1.702e-05</td><td>3.295e-06</td><td>3.295e-06</td></tr>\n",
       "<tr><td>0.34</td><td>1.289e-05</td><td>1.106e-06</td><td>1.106e-06</td></tr>\n",
       "<tr><td>0.42</td><td>8.821e-06</td><td>6.072e-07</td><td>6.072e-07</td></tr>\n",
       "<tr><td>0.519</td><td>5.777e-06</td><td>3.697e-07</td><td>3.697e-07</td></tr>\n",
       "<tr><td>0.642</td><td>3.509e-06</td><td>2.351e-07</td><td>2.351e-07</td></tr>\n",
       "<tr><td>0.793</td><td>2.151e-06</td><td>1.525e-07</td><td>1.525e-07</td></tr>\n",
       "<tr><td>0.98</td><td>1.302e-06</td><td>1.024e-07</td><td>1.024e-07</td></tr>\n",
       "<tr><td>1.212</td><td>6.273e-07</td><td>6.117e-08</td><td>6.117e-08</td></tr>\n",
       "<tr><td>1.498</td><td>3.31e-07</td><td>3.853e-08</td><td>3.853e-08</td></tr>\n",
       "<tr><td>1.851</td><td>1.661e-07</td><td>2.401e-08</td><td>2.401e-08</td></tr>\n",
       "<tr><td>2.288</td><td>1.124e-07</td><td>1.732e-08</td><td>1.732e-08</td></tr>\n",
       "<tr><td>2.828</td><td>6.158e-08</td><td>1.138e-08</td><td>1.138e-08</td></tr>\n",
       "<tr><td>3.496</td><td>3.347e-08</td><td>7.427e-09</td><td>7.427e-09</td></tr>\n",
       "<tr><td>4.321</td><td>1.16e-08</td><td>4.031e-09</td><td>4.031e-09</td></tr>\n",
       "<tr><td>5.342</td><td>5.23e-09</td><td>2.371e-09</td><td>2.371e-09</td></tr>\n",
       "</table>"
      ],
      "text/plain": [
       "<Table length=15>\n",
       " e_ref        dnde         dnde_errn       dnde_errp   \n",
       "  TeV   ph / (m2 s TeV) ph / (m2 s TeV) ph / (m2 s TeV)\n",
       "float64     float64         float64         float64    \n",
       "------- --------------- --------------- ---------------\n",
       "  0.275       1.702e-05       3.295e-06       3.295e-06\n",
       "   0.34       1.289e-05       1.106e-06       1.106e-06\n",
       "   0.42       8.821e-06       6.072e-07       6.072e-07\n",
       "  0.519       5.777e-06       3.697e-07       3.697e-07\n",
       "  0.642       3.509e-06       2.351e-07       2.351e-07\n",
       "  0.793       2.151e-06       1.525e-07       1.525e-07\n",
       "   0.98       1.302e-06       1.024e-07       1.024e-07\n",
       "  1.212       6.273e-07       6.117e-08       6.117e-08\n",
       "  1.498        3.31e-07       3.853e-08       3.853e-08\n",
       "  1.851       1.661e-07       2.401e-08       2.401e-08\n",
       "  2.288       1.124e-07       1.732e-08       1.732e-08\n",
       "  2.828       6.158e-08       1.138e-08       1.138e-08\n",
       "  3.496       3.347e-08       7.427e-09       7.427e-09\n",
       "  4.321        1.16e-08       4.031e-09       4.031e-09\n",
       "  5.342        5.23e-09       2.371e-09       2.371e-09"
      ]
     },
     "execution_count": 10,
     "metadata": {},
     "output_type": "execute_result"
    }
   ],
   "source": [
    "tt"
   ]
  },
  {
   "cell_type": "code",
   "execution_count": 9,
   "metadata": {
    "collapsed": false
   },
   "outputs": [
    {
     "data": {
      "text/plain": [
       "OrderedDict([('object', 'Mrk 421'),\n",
       "             ('description',\n",
       "              'Spectral points for multiwavelength campaign; Observations taken between 2008 January 01 and 2008 June 05; Flux sensitivity 0.8e-10 < flux(E>1TeV) < 1.1e-10'),\n",
       "             ('mjd', {'end': 54622.18955, 'start': 54502.46971}),\n",
       "             ('article',\n",
       "              {'ads': 'http://adsabs.harvard.edu/abs/2011ApJ...738...25A',\n",
       "               'arxiv': 'http://arxiv.org/abs/1106.1210',\n",
       "               'label': 'Ap.J. 738, 25 (2011)',\n",
       "               'url': 'http://iopscience.iop.org/0004-637X/738/1/25/'}),\n",
       "             ('comments',\n",
       "              ['Name=Mrk421_2008_highA',\n",
       "               'z=0.031',\n",
       "               'LiveTime(h)=1.4',\n",
       "               'significance=73.0']),\n",
       "             ('SED_TYPE', 'diff_flux_points')])"
      ]
     },
     "execution_count": 9,
     "metadata": {},
     "output_type": "execute_result"
    }
   ],
   "source": [
    "tt.meta"
   ]
  },
  {
   "cell_type": "code",
   "execution_count": null,
   "metadata": {
    "collapsed": true
   },
   "outputs": [],
   "source": []
  }
 ],
 "metadata": {
  "kernelspec": {
   "display_name": "Python 2",
   "language": "python",
   "name": "python2"
  },
  "language_info": {
   "codemirror_mode": {
    "name": "ipython",
    "version": 2
   },
   "file_extension": ".py",
   "mimetype": "text/x-python",
   "name": "python",
   "nbconvert_exporter": "python",
   "pygments_lexer": "ipython2",
   "version": "2.7.11"
  }
 },
 "nbformat": 4,
 "nbformat_minor": 0
}

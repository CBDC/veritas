{
 "cells": [
  {
   "cell_type": "markdown",
   "metadata": {},
   "source": [
    "# Handling VERITAS spectra\n",
    "\n",
    "After defining a data file format for VERITAS spectra -- https://github.com/chbrandt/veritas/blob/master/data_formatting-v2.rst -- we'll go here handle those files to see whether they fit our needs.\n",
    "\n",
    "The files we are going to handle here are all from the same object: Mkn 421.\n",
    "When an object is observed multiple times, under different activity levels, the VERITAS collaboration has chosen to split the corresponding *spectra* according to the object's activity.\n",
    "\n",
    "Since an object can have multiple *spectra* associated with it, there must be a way to filter for the data points\n",
    "of interest -- understanding the user will fine-tune the data according to its science case.\n",
    "Straightforward solution for breaking down this degeneracy (same object for multiple tables) is to use the observations `epoch`; since no two events can occur at the same time and location, the moment of observation must be unique for each data file (i.e, *spectra*).\n",
    "(To be precise, since the VHE astrophysics is a place where photon are somewhat rare, in a quiescent period it is necessary a long time to integrate the amount of light necessary to build up an *spectra*, if a *flare* happens during this period, the *low emission* *spectra* will contain the period of the flare; whereas the *high emission spectra* of the same object will correspond to the *flare* period only.)\n",
    "\n",
    "When handlig the *spectra* datasets, the goal is to have a table with `energy`, `flux` and `epoch` so that plotting and modelling can be done.\n",
    "Here, that is the place we have to arrive: (*i*) one plot `energy` *vs* `flux` and (*ii*) one plot `epoch` *vs* `flux`."
   ]
  },
  {
   "cell_type": "markdown",
   "metadata": {},
   "source": [
    "## Testing case: Mkn421\n",
    "\n",
    "Seven data files with *spectra* from Mkn421 are available to build those SED plots.\n",
    "The files are in ECSV format as proposed in https://github.com/chbrandt/veritas/blob/master/data_formatting-v2.rst."
   ]
  },
  {
   "cell_type": "code",
   "execution_count": 2,
   "metadata": {
    "collapsed": false
   },
   "outputs": [
    {
     "name": "stdout",
     "output_type": "stream",
     "text": [
      "handling_mkn421.ipynb\r\n",
      "Mkn421_VERITAS_2008_highA_2011ApJ...738...25.txt\r\n",
      "Mkn421_VERITAS_2008_highB_2011ApJ...738...25.txt\r\n",
      "Mkn421_VERITAS_2008_highC_2011ApJ...738...25.txt\r\n",
      "Mkn421_VERITAS_2008_low_2011ApJ...738...25.txt\r\n",
      "Mkn421_VERITAS_2008_mid_2011ApJ...738...25.txt\r\n",
      "Mkn421_VERITAS_2008_veryhigh_2011ApJ...738...25.txt\r\n",
      "Mkn421_VERITAS_2008_verylow_2011ApJ...738...25.txt\r\n"
     ]
    }
   ],
   "source": [
    "%ls"
   ]
  },
  {
   "cell_type": "code",
   "execution_count": null,
   "metadata": {
    "collapsed": true
   },
   "outputs": [],
   "source": []
  }
 ],
 "metadata": {
  "kernelspec": {
   "display_name": "Python 2",
   "language": "python",
   "name": "python2"
  },
  "language_info": {
   "codemirror_mode": {
    "name": "ipython",
    "version": 2
   },
   "file_extension": ".py",
   "mimetype": "text/x-python",
   "name": "python",
   "nbconvert_exporter": "python",
   "pygments_lexer": "ipython2",
   "version": "2.7.11"
  }
 },
 "nbformat": 4,
 "nbformat_minor": 0
}

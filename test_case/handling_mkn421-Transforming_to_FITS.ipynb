{
 "cells": [
  {
   "cell_type": "markdown",
   "metadata": {},
   "source": [
    "# Handling VERITAS spectra\n",
    "\n",
    "After defining a data file format for VERITAS spectra -- https://github.com/chbrandt/veritas/blob/master/data_formatting-v2.5.rst -- we'll now handle its data/metadata to see how it goes.\n",
    "\n",
    "A very fundamental level of any data format is to be able to transform it to (and from) FITS -- without loosing information, clearly -- as FITS is the standard format in Astrophysics."
   ]
  },
  {
   "cell_type": "markdown",
   "metadata": {},
   "source": [
    "## Testing case: Mkn421\n",
    "\n",
    "Seven data files with *spectra* from Mkn421 are available to build those SED plots.\n",
    "The files are in ECSV format as proposed in https://github.com/chbrandt/veritas/blob/master/data_formatting-v2.rst."
   ]
  },
  {
   "cell_type": "code",
   "execution_count": 1,
   "metadata": {
    "collapsed": false
   },
   "outputs": [
    {
     "name": "stdout",
     "output_type": "stream",
     "text": [
      "handling_mkn421-Adding interaction to plots.ipynb\r\n",
      "handling_mkn421.ipynb\r\n",
      "handling_mkn421-Structuring the plot.ipynb\r\n",
      "handling_mkn421-Transforming_to_FITS.ipynb\r\n",
      "Mkn421_VERITAS_2008_highA.csv\r\n",
      "Mkn421_VERITAS_2008_highA.fits\r\n",
      "Mkn421_VERITAS_2008_highB.csv\r\n",
      "Mkn421_VERITAS_2008_highB.fits\r\n",
      "Mkn421_VERITAS_2008_highC.csv\r\n",
      "Mkn421_VERITAS_2008_highC.fits\r\n",
      "Mkn421_VERITAS_2008_low.csv\r\n",
      "Mkn421_VERITAS_2008_low.fits\r\n",
      "Mkn421_VERITAS_2008_mid.csv\r\n",
      "Mkn421_VERITAS_2008_mid.fits\r\n",
      "Mkn421_VERITAS_2008_veryhigh.csv\r\n",
      "Mkn421_VERITAS_2008_veryhigh.fits\r\n",
      "Mkn421_VERITAS_2008_verylow.csv\r\n",
      "Mkn421_VERITAS_2008_verylow.fits\r\n",
      "test1.fits\r\n"
     ]
    }
   ],
   "source": [
    "%ls"
   ]
  },
  {
   "cell_type": "code",
   "execution_count": 2,
   "metadata": {
    "collapsed": false
   },
   "outputs": [
    {
     "name": "stdout",
     "output_type": "stream",
     "text": [
      "# %ECSV 0.9\r\n",
      "# ---\r\n",
      "# meta: !!omap\r\n",
      "# - OBJECT: Mrk 421\r\n",
      "#\r\n",
      "# - DESCRIBE:\r\n",
      "#    Spectral points for multiwavelength campaign;\r\n",
      "#    Observations taken between 2008 January 01 and 2008 June 05;\r\n",
      "#    Flux sensitivity 0.8e-10 < flux(E>1TeV) < 1.1e-10\r\n",
      "#\r\n",
      "# - MJD:\r\n",
      "#    START: 54502.46971\r\n",
      "#    END: 54622.18955\r\n",
      "#\r\n",
      "# - ARTICLE:\r\n",
      "#    label: Ap.J. 738, 25 (2011)\r\n",
      "#    url: http://iopscience.iop.org/0004-637X/738/1/25/\r\n",
      "#    arxiv: http://arxiv.org/abs/1106.1210\r\n",
      "#    ads: http://adsabs.harvard.edu/abs/2011ApJ...738...25A\r\n",
      "#\r\n",
      "# - COMMENTS:\r\n",
      "#    - Name=Mrk421_2008_highA\r\n",
      "#    - z=0.031\r\n",
      "#    - LiveTime(h)=1.4\r\n",
      "#    - significance=73.0\r\n",
      "#\r\n",
      "# - SED_TYPE: diff_flux_points\r\n",
      "#\r\n",
      "# datatype:\r\n",
      "# - name: e_ref\r\n",
      "#   unit: TeV\r\n",
      "#   datatype: float64\r\n",
      "# - name: dnde\r\n",
      "#   unit: ph / (m2 TeV s)\r\n",
      "#   datatype: float64\r\n",
      "# - name: dnde_errn\r\n",
      "#   unit: ph / (m2 TeV s)\r\n",
      "#   datatype: float64\r\n",
      "# - name: dnde_errp\r\n",
      "#   unit: ph / (m2 TeV s)\r\n",
      "#   datatype: float64\r\n",
      "#\r\n",
      "e_ref dnde       dnde_errn  dnde_errp\r\n",
      "0.275 1.702E-005 3.295E-006 3.295E-006\r\n",
      "0.340 1.289E-005 1.106E-006 1.106E-006\r\n",
      "0.420 8.821E-006 6.072E-007 6.072E-007\r\n",
      "0.519 5.777E-006 3.697E-007 3.697E-007\r\n",
      "0.642 3.509E-006 2.351E-007 2.351E-007\r\n",
      "0.793 2.151E-006 1.525E-007 1.525E-007\r\n",
      "0.980 1.302E-006 1.024E-007 1.024E-007\r\n",
      "1.212 6.273E-007 6.117E-008 6.117E-008\r\n",
      "1.498 3.310E-007 3.853E-008 3.853E-008\r\n",
      "1.851 1.661E-007 2.401E-008 2.401E-008\r\n",
      "2.288 1.124E-007 1.732E-008 1.732E-008\r\n",
      "2.828 6.158E-008 1.138E-008 1.138E-008\r\n",
      "3.496 3.347E-008 7.427E-009 7.427E-009\r\n",
      "4.321 1.160E-008 4.031E-009 4.031E-009\r\n",
      "5.342 5.230E-009 2.371E-009 2.371E-009\r\n"
     ]
    }
   ],
   "source": [
    "%cat 'Mkn421_VERITAS_2008_highA.csv'"
   ]
  },
  {
   "cell_type": "markdown",
   "metadata": {},
   "source": [
    "The format -- ECSV -- has been chosen for it is human readable and its metadata availability.\n",
    "The library we have to use is Astropy."
   ]
  },
  {
   "cell_type": "code",
   "execution_count": 3,
   "metadata": {
    "collapsed": true
   },
   "outputs": [],
   "source": [
    "from astropy.table import Table\n",
    "filename = 'Mkn421_VERITAS_2008_highA.csv'\n",
    "tt = Table.read(filename, format='ascii.ecsv')"
   ]
  },
  {
   "cell_type": "code",
   "execution_count": 4,
   "metadata": {
    "collapsed": false
   },
   "outputs": [
    {
     "data": {
      "text/html": [
       "&lt;Table length=15&gt;\n",
       "<table id=\"table140591095391056\" class=\"table-striped table-bordered table-condensed\">\n",
       "<thead><tr><th>e_ref</th><th>dnde</th><th>dnde_errn</th><th>dnde_errp</th></tr></thead>\n",
       "<thead><tr><th>TeV</th><th>ph / (m2 s TeV)</th><th>ph / (m2 s TeV)</th><th>ph / (m2 s TeV)</th></tr></thead>\n",
       "<thead><tr><th>float64</th><th>float64</th><th>float64</th><th>float64</th></tr></thead>\n",
       "<tr><td>0.275</td><td>1.702e-05</td><td>3.295e-06</td><td>3.295e-06</td></tr>\n",
       "<tr><td>0.34</td><td>1.289e-05</td><td>1.106e-06</td><td>1.106e-06</td></tr>\n",
       "<tr><td>0.42</td><td>8.821e-06</td><td>6.072e-07</td><td>6.072e-07</td></tr>\n",
       "<tr><td>0.519</td><td>5.777e-06</td><td>3.697e-07</td><td>3.697e-07</td></tr>\n",
       "<tr><td>0.642</td><td>3.509e-06</td><td>2.351e-07</td><td>2.351e-07</td></tr>\n",
       "<tr><td>0.793</td><td>2.151e-06</td><td>1.525e-07</td><td>1.525e-07</td></tr>\n",
       "<tr><td>0.98</td><td>1.302e-06</td><td>1.024e-07</td><td>1.024e-07</td></tr>\n",
       "<tr><td>1.212</td><td>6.273e-07</td><td>6.117e-08</td><td>6.117e-08</td></tr>\n",
       "<tr><td>1.498</td><td>3.31e-07</td><td>3.853e-08</td><td>3.853e-08</td></tr>\n",
       "<tr><td>1.851</td><td>1.661e-07</td><td>2.401e-08</td><td>2.401e-08</td></tr>\n",
       "<tr><td>2.288</td><td>1.124e-07</td><td>1.732e-08</td><td>1.732e-08</td></tr>\n",
       "<tr><td>2.828</td><td>6.158e-08</td><td>1.138e-08</td><td>1.138e-08</td></tr>\n",
       "<tr><td>3.496</td><td>3.347e-08</td><td>7.427e-09</td><td>7.427e-09</td></tr>\n",
       "<tr><td>4.321</td><td>1.16e-08</td><td>4.031e-09</td><td>4.031e-09</td></tr>\n",
       "<tr><td>5.342</td><td>5.23e-09</td><td>2.371e-09</td><td>2.371e-09</td></tr>\n",
       "</table>"
      ],
      "text/plain": [
       "<Table length=15>\n",
       " e_ref        dnde         dnde_errn       dnde_errp   \n",
       "  TeV   ph / (m2 s TeV) ph / (m2 s TeV) ph / (m2 s TeV)\n",
       "float64     float64         float64         float64    \n",
       "------- --------------- --------------- ---------------\n",
       "  0.275       1.702e-05       3.295e-06       3.295e-06\n",
       "   0.34       1.289e-05       1.106e-06       1.106e-06\n",
       "   0.42       8.821e-06       6.072e-07       6.072e-07\n",
       "  0.519       5.777e-06       3.697e-07       3.697e-07\n",
       "  0.642       3.509e-06       2.351e-07       2.351e-07\n",
       "  0.793       2.151e-06       1.525e-07       1.525e-07\n",
       "   0.98       1.302e-06       1.024e-07       1.024e-07\n",
       "  1.212       6.273e-07       6.117e-08       6.117e-08\n",
       "  1.498        3.31e-07       3.853e-08       3.853e-08\n",
       "  1.851       1.661e-07       2.401e-08       2.401e-08\n",
       "  2.288       1.124e-07       1.732e-08       1.732e-08\n",
       "  2.828       6.158e-08       1.138e-08       1.138e-08\n",
       "  3.496       3.347e-08       7.427e-09       7.427e-09\n",
       "  4.321        1.16e-08       4.031e-09       4.031e-09\n",
       "  5.342        5.23e-09       2.371e-09       2.371e-09"
      ]
     },
     "execution_count": 4,
     "metadata": {},
     "output_type": "execute_result"
    }
   ],
   "source": [
    "tt"
   ]
  },
  {
   "cell_type": "code",
   "execution_count": 5,
   "metadata": {
    "collapsed": false
   },
   "outputs": [
    {
     "name": "stdout",
     "output_type": "stream",
     "text": [
      "{\n",
      "    \"OBJECT\": \"Mrk 421\", \n",
      "    \"DESCRIBE\": \"Spectral points for multiwavelength campaign; Observations taken between 2008 January 01 and 2008 June 05; Flux sensitivity 0.8e-10 < flux(E>1TeV) < 1.1e-10\", \n",
      "    \"MJD\": {\n",
      "        \"START\": 54502.46971, \n",
      "        \"END\": 54622.18955\n",
      "    }, \n",
      "    \"ARTICLE\": {\n",
      "        \"url\": \"http://iopscience.iop.org/0004-637X/738/1/25/\", \n",
      "        \"arxiv\": \"http://arxiv.org/abs/1106.1210\", \n",
      "        \"ads\": \"http://adsabs.harvard.edu/abs/2011ApJ...738...25A\", \n",
      "        \"label\": \"Ap.J. 738, 25 (2011)\"\n",
      "    }, \n",
      "    \"COMMENTS\": [\n",
      "        \"Name=Mrk421_2008_highA\", \n",
      "        \"z=0.031\", \n",
      "        \"LiveTime(h)=1.4\", \n",
      "        \"significance=73.0\"\n",
      "    ], \n",
      "    \"SED_TYPE\": \"diff_flux_points\"\n",
      "}\n"
     ]
    }
   ],
   "source": [
    "import json\n",
    "print json.dumps(tt.meta,indent=4)"
   ]
  },
  {
   "cell_type": "markdown",
   "metadata": {},
   "source": [
    "### Transform to FITS\n",
    "\n",
    "Let's write down the current table to FITS. Ideally, every piece of information will be saved."
   ]
  },
  {
   "cell_type": "code",
   "execution_count": 6,
   "metadata": {
    "collapsed": false
   },
   "outputs": [
    {
     "name": "stderr",
     "output_type": "stream",
     "text": [
      "WARNING: Attribute `MJD` of type <type 'dict'> cannot be added to FITS Header - skipping [astropy.io.fits.convenience]\n",
      "WARNING:astropy:Attribute `MJD` of type <type 'dict'> cannot be added to FITS Header - skipping\n",
      "WARNING: Attribute `ARTICLE` of type <type 'dict'> cannot be added to FITS Header - skipping [astropy.io.fits.convenience]\n",
      "WARNING:astropy:Attribute `ARTICLE` of type <type 'dict'> cannot be added to FITS Header - skipping\n"
     ]
    }
   ],
   "source": [
    "fileout = '.'.join([ ''.join(filename.split('.')[:-1]), 'fits' ])\n",
    "tt.write(fileout, format='fits',overwrite=True)"
   ]
  },
  {
   "cell_type": "markdown",
   "metadata": {},
   "source": [
    "*Well...we clearly see some issues with FITS.*\n",
    "There are some issues when header/meta contains (1) nested structures (ie, dictionaries) -- they are not written to the file, while an `warning` is emitted --, as well as (2) long keywords (bigger than 8 characters) paired with long values (greater than ~70 characters).\n",
    "\n",
    "If/when writing to FITS we should, then, deal with those issues."
   ]
  },
  {
   "cell_type": "markdown",
   "metadata": {},
   "source": [
    "### Working out the header\n",
    "\n",
    "To handle long and nested keywords we will have to apply some kind of word-shortening & flattening algorithms.\n",
    "\n",
    "First, notice that the only nested (or container) structure that handle us issues are *dictionaries*, but not *lists* for instance. \n",
    "Since *dictionaries* keep the (useful) information at their leaves, to flatten such structure is \"as simple as\" working out the *keys* that bring to the (useful) information.\n",
    "\n",
    "For instance, let us take the \"`MJD`\" structure in our original header:\n",
    "```\n",
    "MJD\n",
    "  - INI : 54502.46971\n",
    "  - END : 54622.18955\n",
    "```\n",
    "We can flatten such structure by merging the *keys*:\n",
    "```\n",
    "MJDINI = 54502.46971\n",
    "MJDEND = 54622.18955\n",
    "```\n",
    "To keep the transition, from the original file (ECSV) to the FITS, as clear as possible, we can even add those translations somehow in the header; It seems to be a symbol (e.g, \"`:`\") can be used where keys were concatenated and use it as the `keyword` for the new keyword as `value`:\n",
    "```\n",
    "SUBS_MJDINI = MJD:INI\n",
    "```\n",
    "\n",
    "The second aspect we have to deal with are the long keywords, keywords longer than 8 chars.\n",
    "I propose to solve this one adopting the result of one of the following two-step process:\n",
    "```\n",
    "if length( KEYWORD ) is greater than 8:\n",
    "    NEW_KEYWORD = remove_vowels_from( KEYWORD )\n",
    "if length( NEW_KEYWORD ) is greater than 8:\n",
    "    NEW_KEYWORD = KEYWORD[:8]\n",
    "```\n",
    "Again, we can add such translation to table's meta information.\n",
    "Let's take as an example the keyword `DESCRIPTION`.\n",
    "`DESCRIPTION` has more than 8 characters (11, actually); we solve that by removing its vowels:\n",
    "```\n",
    "DSCRPTN=\"Spectral points for multiwavelength campaign; Observations taken between 2008 January 01 and 2008 June 05; Flux sensitivity 0.8e-10 < flux(E>1TeV) < 1.1e-10\"\n",
    "SUBS_DSCRPTN=DESCRIPTION\n",
    "```"
   ]
  },
  {
   "cell_type": "code",
   "execution_count": 7,
   "metadata": {
    "collapsed": false
   },
   "outputs": [],
   "source": [
    "def flatten_header(table):\n",
    "    separator = '-'\n",
    "    def flatten_dict(key,value_dict):\n",
    "        outish = []\n",
    "        for k,v in value_dict.iteritems():\n",
    "            if isinstance(v,dict):\n",
    "                flat = flatten_dict(k,v)\n",
    "                for kp,vp in flat:\n",
    "                    kn = separator.join([ str(k), kp ])\n",
    "                    outish.append((kn,vp))\n",
    "            else:\n",
    "                outish.append((k,v))\n",
    "        return [ (separator.join([ str(key), k]),v) for k,v in outish ]\n",
    "    for k,v in table.meta.iteritems():\n",
    "        if isinstance(v,dict):\n",
    "            flat = flatten_dict(k,v)\n",
    "            for kn,vn in flat:\n",
    "                table.meta[kn] = vn\n",
    "                try:\n",
    "                    del table.meta[k]\n",
    "                except:\n",
    "                    pass\n",
    "    return table.meta\n",
    "\n",
    "_ = flatten_header(tt)"
   ]
  },
  {
   "cell_type": "code",
   "execution_count": 8,
   "metadata": {
    "collapsed": false
   },
   "outputs": [
    {
     "data": {
      "text/plain": [
       "OrderedDict([('OBJECT', 'Mrk 421'),\n",
       "             ('DESCRIBE',\n",
       "              'Spectral points for multiwavelength campaign; Observations taken between 2008 January 01 and 2008 June 05; Flux sensitivity 0.8e-10 < flux(E>1TeV) < 1.1e-10'),\n",
       "             ('COMMENTS',\n",
       "              ['Name=Mrk421_2008_highA',\n",
       "               'z=0.031',\n",
       "               'LiveTime(h)=1.4',\n",
       "               'significance=73.0']),\n",
       "             ('SED_TYPE', 'diff_flux_points'),\n",
       "             ('MJD-START', 54502.46971),\n",
       "             ('MJD-END', 54622.18955),\n",
       "             ('ARTICLE-url', 'http://iopscience.iop.org/0004-637X/738/1/25/'),\n",
       "             ('ARTICLE-arxiv', 'http://arxiv.org/abs/1106.1210'),\n",
       "             ('ARTICLE-ads',\n",
       "              'http://adsabs.harvard.edu/abs/2011ApJ...738...25A'),\n",
       "             ('ARTICLE-label', 'Ap.J. 738, 25 (2011)')])"
      ]
     },
     "execution_count": 8,
     "metadata": {},
     "output_type": "execute_result"
    }
   ],
   "source": [
    "tt.meta"
   ]
  },
  {
   "cell_type": "code",
   "execution_count": 9,
   "metadata": {
    "collapsed": false
   },
   "outputs": [],
   "source": [
    "def shorten_header_keywords(table):\n",
    "    def shorten_word(word):\n",
    "        new_word = ''.join( filter(lambda c:c.lower() not in 'aeiou', word) )\n",
    "        if len(new_word) > 8:\n",
    "            new_word = new_word[:8]\n",
    "        return new_word\n",
    "    to_remove = []\n",
    "    to_add = []\n",
    "    for k,v in table.meta.iteritems():\n",
    "        if len(k) > 8:\n",
    "            assert isinstance(k,(str,unicode))\n",
    "            new_k = shorten_word(k)\n",
    "            to_add.append((new_k,v))\n",
    "            to_remove.append(k)\n",
    "            to_add.append(('SUBS_'+new_k,k))\n",
    "    for new_k,v in to_add:\n",
    "        table.meta[new_k] = v\n",
    "    for old_k in to_remove:\n",
    "        del table.meta[old_k]\n",
    "    return table.meta\n",
    "\n",
    "#_ = shorten_header_keywords(tt)\n",
    "#tt.meta"
   ]
  },
  {
   "cell_type": "code",
   "execution_count": 10,
   "metadata": {
    "collapsed": false
   },
   "outputs": [
    {
     "name": "stderr",
     "output_type": "stream",
     "text": [
      "WARNING: VerifyWarning: Keyword name 'MJD-START' is greater than 8 characters or contains characters not allowed by the FITS standard; a HIERARCH card will be created. [astropy.io.fits.card]\n",
      "WARNING:astropy:VerifyWarning: Keyword name 'MJD-START' is greater than 8 characters or contains characters not allowed by the FITS standard; a HIERARCH card will be created.\n",
      "WARNING: VerifyWarning: Keyword name 'ARTICLE-url' is greater than 8 characters or contains characters not allowed by the FITS standard; a HIERARCH card will be created. [astropy.io.fits.card]\n",
      "WARNING:astropy:VerifyWarning: Keyword name 'ARTICLE-url' is greater than 8 characters or contains characters not allowed by the FITS standard; a HIERARCH card will be created.\n",
      "WARNING: VerifyWarning: Keyword name 'ARTICLE-arxiv' is greater than 8 characters or contains characters not allowed by the FITS standard; a HIERARCH card will be created. [astropy.io.fits.card]\n",
      "WARNING:astropy:VerifyWarning: Keyword name 'ARTICLE-arxiv' is greater than 8 characters or contains characters not allowed by the FITS standard; a HIERARCH card will be created.\n",
      "WARNING: VerifyWarning: Keyword name 'ARTICLE-ads' is greater than 8 characters or contains characters not allowed by the FITS standard; a HIERARCH card will be created. [astropy.io.fits.card]\n",
      "WARNING:astropy:VerifyWarning: Keyword name 'ARTICLE-ads' is greater than 8 characters or contains characters not allowed by the FITS standard; a HIERARCH card will be created.\n",
      "WARNING: VerifyWarning: Keyword name 'ARTICLE-label' is greater than 8 characters or contains characters not allowed by the FITS standard; a HIERARCH card will be created. [astropy.io.fits.card]\n",
      "WARNING:astropy:VerifyWarning: Keyword name 'ARTICLE-label' is greater than 8 characters or contains characters not allowed by the FITS standard; a HIERARCH card will be created.\n"
     ]
    }
   ],
   "source": [
    "tt.write(fileout, format='fits', overwrite=True)"
   ]
  },
  {
   "cell_type": "markdown",
   "metadata": {},
   "source": [
    "Clearly that is not the most beautiful solution, but we now can write freely to a FITS file."
   ]
  },
  {
   "cell_type": "code",
   "execution_count": 11,
   "metadata": {
    "collapsed": false
   },
   "outputs": [
    {
     "data": {
      "text/html": [
       "&lt;Table length=15&gt;\n",
       "<table id=\"table140591047697488\" class=\"table-striped table-bordered table-condensed\">\n",
       "<thead><tr><th>e_ref</th><th>dnde</th><th>dnde_errn</th><th>dnde_errp</th></tr></thead>\n",
       "<thead><tr><th>TeV</th><th>ph / (m2 s TeV)</th><th>ph / (m2 s TeV)</th><th>ph / (m2 s TeV)</th></tr></thead>\n",
       "<thead><tr><th>float64</th><th>float64</th><th>float64</th><th>float64</th></tr></thead>\n",
       "<tr><td>0.275</td><td>1.702e-05</td><td>3.295e-06</td><td>3.295e-06</td></tr>\n",
       "<tr><td>0.34</td><td>1.289e-05</td><td>1.106e-06</td><td>1.106e-06</td></tr>\n",
       "<tr><td>0.42</td><td>8.821e-06</td><td>6.072e-07</td><td>6.072e-07</td></tr>\n",
       "<tr><td>0.519</td><td>5.777e-06</td><td>3.697e-07</td><td>3.697e-07</td></tr>\n",
       "<tr><td>0.642</td><td>3.509e-06</td><td>2.351e-07</td><td>2.351e-07</td></tr>\n",
       "<tr><td>0.793</td><td>2.151e-06</td><td>1.525e-07</td><td>1.525e-07</td></tr>\n",
       "<tr><td>0.98</td><td>1.302e-06</td><td>1.024e-07</td><td>1.024e-07</td></tr>\n",
       "<tr><td>1.212</td><td>6.273e-07</td><td>6.117e-08</td><td>6.117e-08</td></tr>\n",
       "<tr><td>1.498</td><td>3.31e-07</td><td>3.853e-08</td><td>3.853e-08</td></tr>\n",
       "<tr><td>1.851</td><td>1.661e-07</td><td>2.401e-08</td><td>2.401e-08</td></tr>\n",
       "<tr><td>2.288</td><td>1.124e-07</td><td>1.732e-08</td><td>1.732e-08</td></tr>\n",
       "<tr><td>2.828</td><td>6.158e-08</td><td>1.138e-08</td><td>1.138e-08</td></tr>\n",
       "<tr><td>3.496</td><td>3.347e-08</td><td>7.427e-09</td><td>7.427e-09</td></tr>\n",
       "<tr><td>4.321</td><td>1.16e-08</td><td>4.031e-09</td><td>4.031e-09</td></tr>\n",
       "<tr><td>5.342</td><td>5.23e-09</td><td>2.371e-09</td><td>2.371e-09</td></tr>\n",
       "</table>"
      ],
      "text/plain": [
       "<Table length=15>\n",
       " e_ref        dnde         dnde_errn       dnde_errp   \n",
       "  TeV   ph / (m2 s TeV) ph / (m2 s TeV) ph / (m2 s TeV)\n",
       "float64     float64         float64         float64    \n",
       "------- --------------- --------------- ---------------\n",
       "  0.275       1.702e-05       3.295e-06       3.295e-06\n",
       "   0.34       1.289e-05       1.106e-06       1.106e-06\n",
       "   0.42       8.821e-06       6.072e-07       6.072e-07\n",
       "  0.519       5.777e-06       3.697e-07       3.697e-07\n",
       "  0.642       3.509e-06       2.351e-07       2.351e-07\n",
       "  0.793       2.151e-06       1.525e-07       1.525e-07\n",
       "   0.98       1.302e-06       1.024e-07       1.024e-07\n",
       "  1.212       6.273e-07       6.117e-08       6.117e-08\n",
       "  1.498        3.31e-07       3.853e-08       3.853e-08\n",
       "  1.851       1.661e-07       2.401e-08       2.401e-08\n",
       "  2.288       1.124e-07       1.732e-08       1.732e-08\n",
       "  2.828       6.158e-08       1.138e-08       1.138e-08\n",
       "  3.496       3.347e-08       7.427e-09       7.427e-09\n",
       "  4.321        1.16e-08       4.031e-09       4.031e-09\n",
       "  5.342        5.23e-09       2.371e-09       2.371e-09"
      ]
     },
     "execution_count": 11,
     "metadata": {},
     "output_type": "execute_result"
    }
   ],
   "source": [
    "t_ = Table.read(fileout, format='fits')\n",
    "t_"
   ]
  },
  {
   "cell_type": "code",
   "execution_count": 12,
   "metadata": {
    "collapsed": false
   },
   "outputs": [
    {
     "data": {
      "text/plain": [
       "OrderedDict([('OBJECT', 'Mrk 421'),\n",
       "             ('DESCRIBE',\n",
       "              'Spectral points for multiwavelength campaign; Observations taken between 2008 January 01 and 2008 June 05; Flux sensitivity 0.8e-10 < flux(E>1TeV) < 1.1e-10'),\n",
       "             ('COMMENTS',\n",
       "              ['Name=Mrk421_2008_highA',\n",
       "               'z=0.031',\n",
       "               'LiveTime(h)=1.4',\n",
       "               'significance=73.0']),\n",
       "             ('SED_TYPE', 'diff_flux_points'),\n",
       "             ('MJD-START', 54502.46971),\n",
       "             ('MJD-END', 54622.18955),\n",
       "             ('ARTICLE-url', 'http://iopscience.iop.org/0004-637X/738/1/25/'),\n",
       "             ('ARTICLE-arxiv', 'http://arxiv.org/abs/1106.1210'),\n",
       "             ('ARTICLE-ads',\n",
       "              'http://adsabs.harvard.edu/abs/2011ApJ...738...25A'),\n",
       "             ('ARTICLE-label', 'Ap.J. 738, 25 (2011)')])"
      ]
     },
     "execution_count": 12,
     "metadata": {},
     "output_type": "execute_result"
    }
   ],
   "source": [
    "t_.meta"
   ]
  },
  {
   "cell_type": "markdown",
   "metadata": {},
   "source": [
    "## Transform CSV to FITS"
   ]
  },
  {
   "cell_type": "code",
   "execution_count": 13,
   "metadata": {
    "collapsed": false
   },
   "outputs": [],
   "source": [
    "from astropy.table import Table\n",
    "from glob import glob\n",
    "for csv_file in glob('*.csv'):\n",
    "    fits_file = '{}.fits'.format(csv_file[:-4])\n",
    "    t = Table.read(csv_file, format='ascii.ecsv')\n",
    "    _ = flatten_header(t)\n",
    "    t.write(fits_file, format='fits', overwrite=True)"
   ]
  },
  {
   "cell_type": "code",
   "execution_count": 14,
   "metadata": {
    "collapsed": false
   },
   "outputs": [
    {
     "name": "stdout",
     "output_type": "stream",
     "text": [
      "handling_mkn421-Adding interaction to plots.ipynb\r\n",
      "handling_mkn421.ipynb\r\n",
      "handling_mkn421-Structuring the plot.ipynb\r\n",
      "handling_mkn421-Transforming_to_FITS.ipynb\r\n",
      "Mkn421_VERITAS_2008_highA.csv\r\n",
      "Mkn421_VERITAS_2008_highA.fits\r\n",
      "Mkn421_VERITAS_2008_highB.csv\r\n",
      "Mkn421_VERITAS_2008_highB.fits\r\n",
      "Mkn421_VERITAS_2008_highC.csv\r\n",
      "Mkn421_VERITAS_2008_highC.fits\r\n",
      "Mkn421_VERITAS_2008_low.csv\r\n",
      "Mkn421_VERITAS_2008_low.fits\r\n",
      "Mkn421_VERITAS_2008_mid.csv\r\n",
      "Mkn421_VERITAS_2008_mid.fits\r\n",
      "Mkn421_VERITAS_2008_veryhigh.csv\r\n",
      "Mkn421_VERITAS_2008_veryhigh.fits\r\n",
      "Mkn421_VERITAS_2008_verylow.csv\r\n",
      "Mkn421_VERITAS_2008_verylow.fits\r\n",
      "test1.fits\r\n"
     ]
    }
   ],
   "source": [
    "%ls"
   ]
  },
  {
   "cell_type": "code",
   "execution_count": 15,
   "metadata": {
    "collapsed": false
   },
   "outputs": [
    {
     "name": "stdout",
     "output_type": "stream",
     "text": [
      "{\n",
      "    \"OBJECT\": \"Mrk 421\", \n",
      "    \"DESCRIBE\": \"Spectral points for multiwavelength campaign; Observations taken between 2008 January 01 and 2008 June 05; Flux sensitivity ? < flux(E>1TeV) < ?\", \n",
      "    \"COMMENTS\": [\n",
      "        \"Name=Mrk421_2008_highB\", \n",
      "        \"z=0.031\", \n",
      "        \"LiveTime(h)=0.6\", \n",
      "        \"significance=47.3\"\n",
      "    ], \n",
      "    \"SED_TYPE\": \"diff_flux_points\", \n",
      "    \"MJD-START\": 54589.28015, \n",
      "    \"MJD-END\": 54589.3248, \n",
      "    \"ARTICLE-url\": \"http://iopscience.iop.org/0004-637X/738/1/25/\", \n",
      "    \"ARTICLE-arxiv\": \"http://arxiv.org/abs/1106.1210\", \n",
      "    \"ARTICLE-ads\": \"http://adsabs.harvard.edu/abs/2011ApJ...738...25A\", \n",
      "    \"ARTICLE-label\": \"Ap.J. 738, 25 (2011)\"\n",
      "}\n"
     ]
    }
   ],
   "source": [
    "import json\n",
    "print json.dumps(Table.read('Mkn421_VERITAS_2008_highB.fits').meta, indent=4)"
   ]
  },
  {
   "cell_type": "code",
   "execution_count": null,
   "metadata": {
    "collapsed": true
   },
   "outputs": [],
   "source": []
  }
 ],
 "metadata": {
  "kernelspec": {
   "display_name": "Python 2",
   "language": "python",
   "name": "python2"
  },
  "language_info": {
   "codemirror_mode": {
    "name": "ipython",
    "version": 2
   },
   "file_extension": ".py",
   "mimetype": "text/x-python",
   "name": "python",
   "nbconvert_exporter": "python",
   "pygments_lexer": "ipython2",
   "version": "2.7.11"
  }
 },
 "nbformat": 4,
 "nbformat_minor": 0
}

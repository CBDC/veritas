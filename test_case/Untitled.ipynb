{
 "cells": [
  {
   "cell_type": "markdown",
   "metadata": {},
   "source": [
    "# Handling VERITAS spectra\n",
    "\n",
    "After defining a data file format for VERITAS spectra -- https://github.com/chbrandt/veritas/blob/master/data_formatting-v2.rst -- we'll go here handle those files to see whether they fit our needs.\n",
    "\n",
    "The files we are going to handle here are all from the same object: Mkn 421.\n",
    "When an object is observed multiple times, under different activity levels, the VERITAS collaboration has chosen to split the corresponding *spectra* according to the object's activity."
   ]
  }
 ],
 "metadata": {
  "kernelspec": {
   "display_name": "Python 2",
   "language": "python",
   "name": "python2"
  },
  "language_info": {
   "codemirror_mode": {
    "name": "ipython",
    "version": 2
   },
   "file_extension": ".py",
   "mimetype": "text/x-python",
   "name": "python",
   "nbconvert_exporter": "python",
   "pygments_lexer": "ipython2",
   "version": "2.7.11"
  }
 },
 "nbformat": 4,
 "nbformat_minor": 0
}
